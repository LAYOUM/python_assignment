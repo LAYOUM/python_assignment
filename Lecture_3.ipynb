{
  "nbformat": 4,
  "nbformat_minor": 0,
  "metadata": {
    "kernelspec": {
      "display_name": "Python 3",
      "language": "python",
      "name": "python3"
    },
    "language_info": {
      "codemirror_mode": {
        "name": "ipython",
        "version": 3
      },
      "file_extension": ".py",
      "mimetype": "text/x-python",
      "name": "python",
      "nbconvert_exporter": "python",
      "pygments_lexer": "ipython3",
      "version": "3.7.3"
    },
    "colab": {
      "name": "Lecture 3.ipynb",
      "provenance": [],
      "collapsed_sections": [],
      "include_colab_link": true
    }
  },
  "cells": [
    {
      "cell_type": "markdown",
      "metadata": {
        "id": "view-in-github",
        "colab_type": "text"
      },
      "source": [
        "<a href=\"https://colab.research.google.com/github/LAYOUM/python_assignment/blob/main/Lecture_3.ipynb\" target=\"_parent\"><img src=\"https://colab.research.google.com/assets/colab-badge.svg\" alt=\"Open In Colab\"/></a>"
      ]
    },
    {
      "cell_type": "markdown",
      "metadata": {
        "id": "Vq90OzPE2lMK"
      },
      "source": [
        "# Week 3 Practice"
      ]
    },
    {
      "cell_type": "markdown",
      "metadata": {
        "id": "EVd8k0o62lMN"
      },
      "source": [
        "### 3-1 \n",
        "\n",
        "2부터 100까지 모든 숫자 중 짝수를 출력하는 프로그램을 작성하시오."
      ]
    },
    {
      "cell_type": "code",
      "metadata": {
        "id": "OFz0Fjlb2lMO"
      },
      "source": [
        "for var in range(1, 101):\r\n",
        "  if var%2==0:\r\n",
        "    print(var)"
      ],
      "execution_count": null,
      "outputs": []
    },
    {
      "cell_type": "code",
      "metadata": {
        "id": "umvhhvaRqFMN"
      },
      "source": [
        "var=1\r\n",
        "\r\n",
        "while var<101:\r\n",
        "  if var%2==0:\r\n",
        "    print(var)\r\n",
        "  var+=1"
      ],
      "execution_count": null,
      "outputs": []
    },
    {
      "cell_type": "markdown",
      "metadata": {
        "id": "yaoTA6jM2lMP"
      },
      "source": [
        "### 3-2\n",
        "반복문을 사용하여 1부터 100까지 합을 구하는 프로그램을 작성하시오.\n"
      ]
    },
    {
      "cell_type": "code",
      "metadata": {
        "id": "2jTT_fPYqc_e"
      },
      "source": [
        "sum=0\r\n",
        "\r\n",
        "for var in range(1, 101):\r\n",
        "  sum+=var\r\n",
        "  var+=1\r\n",
        "\r\n",
        "print(sum)"
      ],
      "execution_count": null,
      "outputs": []
    },
    {
      "cell_type": "code",
      "metadata": {
        "id": "SY69HWof2lMR"
      },
      "source": [
        "var=1\r\n",
        "sum=0\r\n",
        "\r\n",
        "while var<101:\r\n",
        "  sum+=var\r\n",
        "  var+=1\r\n",
        "\r\n",
        "print(sum)"
      ],
      "execution_count": null,
      "outputs": []
    },
    {
      "cell_type": "markdown",
      "metadata": {
        "id": "RNi6g_Eu2lMS"
      },
      "source": [
        "### 3-3 \n",
        "\n",
        "반복문을 사용하여 구구단을 출력하는 프로그램을 작성하시오.  \n",
        "구구단 중 7단을 출력하세요."
      ]
    },
    {
      "cell_type": "code",
      "metadata": {
        "id": "U5NufZUc2lMT"
      },
      "source": [
        "var = 7 \n",
        "\n",
        "for i in range(1, 10):\n",
        "  print(var, \"*\", i, \"=\", var*i)"
      ],
      "execution_count": null,
      "outputs": []
    },
    {
      "cell_type": "markdown",
      "metadata": {
        "id": "ef8UPNYg2lMV"
      },
      "source": [
        "### 3-4\n",
        "\n",
        "1부터 99까지 모든 숫자 중 3 또는 5의 배수의 합을 구하여 출력하는 프로그램을 작성하시오. "
      ]
    },
    {
      "cell_type": "code",
      "metadata": {
        "id": "d1_tFHF42lMW",
        "colab": {
          "base_uri": "https://localhost:8080/"
        },
        "outputId": "5563d942-ca72-4dfb-b376-ec65ebbb9de7"
      },
      "source": [
        "sum=0\r\n",
        "\r\n",
        "for var in range(1, 100):\r\n",
        "  if var%3==0:\r\n",
        "    sum+=var\r\n",
        "  elif var%5==0:\r\n",
        "    sum+=var\r\n",
        "  elif var%3==0 and var%5==0:\r\n",
        "    sum-=var\r\n",
        "\r\n",
        "print(sum)"
      ],
      "execution_count": null,
      "outputs": [
        {
          "output_type": "stream",
          "text": [
            "2318\n"
          ],
          "name": "stdout"
        }
      ]
    },
    {
      "cell_type": "markdown",
      "metadata": {
        "id": "V1HSZrH42lMX"
      },
      "source": [
        "### 3-5 \n",
        "반복문 내부의 반복문을 사용하여  \n",
        "선언된 변수의 크기만큼 삼각형 구조를 가지는 출력을 하는 프로그램을 작성하시오  \n",
        "ex) var = 5  \n",
        "1  \n",
        "12  \n",
        "123  \n",
        "1234  \n",
        "12345  \n",
        "\n",
        "\n",
        "\n",
        "hint: print(var,end='')로 print(출력할 변수,end='출력단 뒤에 붙을 문자열') 형태로  \n",
        "end=()안에 공백 문자를 넘겨주게 되면 엔터처리 없이 출력할 수 있습니다."
      ]
    },
    {
      "cell_type": "code",
      "metadata": {
        "id": "5zW6W4Vn2lMY",
        "colab": {
          "base_uri": "https://localhost:8080/"
        },
        "outputId": "fb8ec5d2-a2e8-4011-8de8-e165be6cbbe3"
      },
      "source": [
        "def a(var):\r\n",
        "  for j in range(1, var+1):\r\n",
        "    for i in range(1, j+1):\r\n",
        "      print(i, end='')\r\n",
        "      i+=1\r\n",
        "    print('\\n')\r\n",
        "\r\n",
        "var=int(input(\"var= \"))\r\n",
        "print('\\n')\r\n",
        "a(var)"
      ],
      "execution_count": null,
      "outputs": [
        {
          "output_type": "stream",
          "text": [
            "var= 5\n",
            "\n",
            "\n",
            "1\n",
            "\n",
            "12\n",
            "\n",
            "123\n",
            "\n",
            "1234\n",
            "\n",
            "12345\n",
            "\n"
          ],
          "name": "stdout"
        }
      ]
    }
  ]
}