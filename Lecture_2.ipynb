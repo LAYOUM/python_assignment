{
  "nbformat": 4,
  "nbformat_minor": 0,
  "metadata": {
    "kernelspec": {
      "display_name": "Python 3",
      "language": "python",
      "name": "python3"
    },
    "language_info": {
      "codemirror_mode": {
        "name": "ipython",
        "version": 3
      },
      "file_extension": ".py",
      "mimetype": "text/x-python",
      "name": "python",
      "nbconvert_exporter": "python",
      "pygments_lexer": "ipython3",
      "version": "3.7.3"
    },
    "colab": {
      "name": "Lecture 2.ipynb",
      "provenance": [],
      "collapsed_sections": [],
      "include_colab_link": true
    }
  },
  "cells": [
    {
      "cell_type": "markdown",
      "metadata": {
        "id": "view-in-github",
        "colab_type": "text"
      },
      "source": [
        "<a href=\"https://colab.research.google.com/github/LAYOUM/python/blob/main/Lecture_2.ipynb\" target=\"_parent\"><img src=\"https://colab.research.google.com/assets/colab-badge.svg\" alt=\"Open In Colab\"/></a>"
      ]
    },
    {
      "cell_type": "markdown",
      "metadata": {
        "id": "H5-wS3eV5B2k"
      },
      "source": [
        "# Week 2 Practice\n",
        "\n",
        "\n"
      ]
    },
    {
      "cell_type": "markdown",
      "metadata": {
        "id": "ADu82tTV5B21"
      },
      "source": [
        "### 1-1 \n",
        "\n",
        "아래의 코드는 두 수의 합을 계산하는 프로그램 입니다.  \n",
        "코드를 실행하면 오류가 뜨게 되는데 오류해결방안을 제시하세요\n"
      ]
    },
    {
      "cell_type": "code",
      "metadata": {
        "id": "RNMFxZZe5B23",
        "colab": {
          "base_uri": "https://localhost:8080/"
        },
        "outputId": "dc90e54e-9a45-461e-fbd4-3f1ab3d0e18b"
      },
      "source": [
        "\n",
        "var1=5 # 변경하지 않는다.\n",
        "var2=10 # 변경하지 않는다.\n",
        "\n",
        "print(var1+var2)\n"
      ],
      "execution_count": 1,
      "outputs": [
        {
          "output_type": "stream",
          "text": [
            "15\n"
          ],
          "name": "stdout"
        }
      ]
    },
    {
      "cell_type": "markdown",
      "metadata": {
        "id": "nGTfMK_G5B28"
      },
      "source": [
        "### 1-2\n",
        "\n",
        "두 수를 입력받았을 때 각 print문 옆의 주석에 해당하는 결과를 출력할 수 있게 내부를 채워넣으세요\n"
      ]
    },
    {
      "cell_type": "code",
      "metadata": {
        "scrolled": true,
        "id": "BhOk_-Xg5B29",
        "colab": {
          "base_uri": "https://localhost:8080/"
        },
        "outputId": "3a848ff2-5742-4dec-f601-0c93109f6a09"
      },
      "source": [
        "var1=100\n",
        "var2=200\n",
        "\n",
        "print(var1+var2) #두 수의 합\n",
        "print(var1-var2) #두 수의 차\n",
        "print(var1*var2) #두 수의 곱\n",
        "print((var1+var2)/2) #두 수의 평균"
      ],
      "execution_count": 2,
      "outputs": [
        {
          "output_type": "stream",
          "text": [
            "300\n",
            "-100\n",
            "20000\n",
            "150.0\n"
          ],
          "name": "stdout"
        }
      ]
    },
    {
      "cell_type": "markdown",
      "metadata": {
        "id": "3CvRf3Ki5B2-"
      },
      "source": [
        "### 1-3\n",
        "\n",
        "\n",
        "첫번째 변수 12345  \n",
        "두번째 변수 10885  \n",
        "를 선언하고  \n",
        "\n",
        "\n",
        "첫번째 변수/10 의 나머지와  \n",
        "두번째 변수/20 의 나머지가 같은지 검사 후  \n",
        "조건문을 이용해 같다면 \"같음\" 다르다면 \"다름\" 이라고 출력하는 코드를 작성하세요  "
      ]
    },
    {
      "cell_type": "code",
      "metadata": {
        "scrolled": true,
        "id": "hQLO0pgw5B2_"
      },
      "source": [
        "var1=12345\n",
        "var2=10885\n",
        "\n"
      ],
      "execution_count": null,
      "outputs": []
    },
    {
      "cell_type": "markdown",
      "metadata": {
        "id": "8pJIO2xh5B3A"
      },
      "source": [
        "### 1-4 \n",
        "4자리 숫자가 변수로 선언되었을때 각 자리수의 합을 출력할 수 있는 프로그램을 작성 하시오\n",
        "\n",
        "ex) 1234가 입력되면 1+2+3+4를 출력\n",
        "\n",
        "변수의 값은 8952 로 설정하세요\n",
        "hint: 나눗셈과 나머지 연산을 활용하세요 \n"
      ]
    },
    {
      "cell_type": "code",
      "metadata": {
        "id": "SBTZx0VO5B3B"
      },
      "source": [
        "var1= 8952"
      ],
      "execution_count": null,
      "outputs": []
    },
    {
      "cell_type": "markdown",
      "metadata": {
        "id": "-KdvZ39_5B3D"
      },
      "source": [
        "### 1-5 \n",
        "화씨 온도로 선언된 f 가 있을때 이것을 섭씨 온도로 변환하는 프로그램을 작성하시오.  \n",
        "화씨를 섭씨로 변환하는 식은 다음과 같습니다.\n",
        "\n",
        "$C = (f -32.0) *\\frac 5 9$  \n",
        "\n",
        "화씨 온도 100도를 섭씨로 변환한 결과를 출력합니다."
      ]
    },
    {
      "cell_type": "code",
      "metadata": {
        "id": "wpjPZSHv5B3E",
        "outputId": "c7f071fe-bddc-4e71-ed5f-0571d11a41ff"
      },
      "source": [
        "var1= 100\n"
      ],
      "execution_count": null,
      "outputs": [
        {
          "output_type": "execute_result",
          "data": {
            "text/plain": [
              "37.77777777777778"
            ]
          },
          "metadata": {
            "tags": []
          },
          "execution_count": 5
        }
      ]
    },
    {
      "cell_type": "code",
      "metadata": {
        "id": "X5at_54Q5B3F"
      },
      "source": [
        ""
      ],
      "execution_count": null,
      "outputs": []
    }
  ]
}