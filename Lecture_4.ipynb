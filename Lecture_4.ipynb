{
  "nbformat": 4,
  "nbformat_minor": 0,
  "metadata": {
    "kernelspec": {
      "display_name": "Python 3",
      "language": "python",
      "name": "python3"
    },
    "language_info": {
      "codemirror_mode": {
        "name": "ipython",
        "version": 3
      },
      "file_extension": ".py",
      "mimetype": "text/x-python",
      "name": "python",
      "nbconvert_exporter": "python",
      "pygments_lexer": "ipython3",
      "version": "3.7.3"
    },
    "colab": {
      "name": "Lecture 4.ipynb",
      "provenance": [],
      "collapsed_sections": [],
      "include_colab_link": true
    }
  },
  "cells": [
    {
      "cell_type": "markdown",
      "metadata": {
        "id": "view-in-github",
        "colab_type": "text"
      },
      "source": [
        "<a href=\"https://colab.research.google.com/github/LAYOUM/python_assignment/blob/main/Lecture_4.ipynb\" target=\"_parent\"><img src=\"https://colab.research.google.com/assets/colab-badge.svg\" alt=\"Open In Colab\"/></a>"
      ]
    },
    {
      "cell_type": "markdown",
      "metadata": {
        "id": "SNyh-ZWdC7X9"
      },
      "source": [
        "# Week 4 Practice"
      ]
    },
    {
      "cell_type": "markdown",
      "metadata": {
        "id": "js8TBBjEC7YM"
      },
      "source": [
        "### 4-1 \n",
        "str 타입의 변수 name을 입력받으면  \n",
        "\"hello\" + name  \n",
        "을 반환하는 함수를 작성하고 함수를 사용해 이름을 변수로 넣고 반환값을 받아  \n",
        "출력하는 프로그램을 작성하시오   \n",
        "주의:함수를 작성하고 함수를 run을 시켜야 함수를 사용할 수 있습니다."
      ]
    },
    {
      "cell_type": "code",
      "metadata": {
        "id": "d3LJ_-T6C7YO"
      },
      "source": [
        "def print_name(name):\r\n",
        "  print(\"hello \", name)"
      ],
      "execution_count": null,
      "outputs": []
    },
    {
      "cell_type": "code",
      "metadata": {
        "id": "FoAW_1OoC7YQ"
      },
      "source": [
        "name=input(\"say your name: \")\r\n",
        "print_name(name)"
      ],
      "execution_count": null,
      "outputs": []
    },
    {
      "cell_type": "markdown",
      "metadata": {
        "id": "AprHWWnvC7YR"
      },
      "source": [
        "### 4-2\n",
        "\n",
        "두 수를 입력받고 둘 중 큰 수를 반환하는 함수를 작성하고  \n",
        "반환값을 이용해 출력하는 프로그램을 작성하세요"
      ]
    },
    {
      "cell_type": "code",
      "metadata": {
        "id": "bzJNKYUKC7YR"
      },
      "source": [
        "def print_max(var1, var2):\r\n",
        "  if var1>var2:\r\n",
        "    print(var1)\r\n",
        "  if var1<var2:\r\n",
        "    print(var2)\r\n",
        "  if var1==var2:\r\n",
        "    print(\"두 수는 같다\")"
      ],
      "execution_count": null,
      "outputs": []
    },
    {
      "cell_type": "code",
      "metadata": {
        "id": "qv2kZ8_mC7YT"
      },
      "source": [
        "var1, var2=input().split()\r\n",
        "var1=int(var1)\r\n",
        "var2=int(var2)\r\n",
        "print_max(var1, var2)"
      ],
      "execution_count": null,
      "outputs": []
    },
    {
      "cell_type": "markdown",
      "metadata": {
        "id": "w960V-kYC7YU"
      },
      "source": [
        "### 4-3\n",
        "두 수를 입력받고 두 수의 곱을 출력하는 프로그램을 작성하세요  \n",
        "이 때 두번째 파라미터는 받지 않을 수 있습니다(입력값이 한개일 수 있습니다)  \n",
        "두번째 파라미터가 없는경우 초기값(14)로 설정되게 작성하세요   "
      ]
    },
    {
      "cell_type": "code",
      "metadata": {
        "id": "MblbPKrgC7YU"
      },
      "source": [
        "def print_mul(var1, var2):\r\n",
        "  var1=var[0]\r\n",
        "  if len(var)<2:\r\n",
        "    var2=14\r\n",
        "  else :\r\n",
        "    var2=var[1]\r\n",
        "  print(var1*var2)"
      ],
      "execution_count": null,
      "outputs": []
    },
    {
      "cell_type": "code",
      "metadata": {
        "id": "WupkHfWZC7YV"
      },
      "source": [
        "var=list(map(int, input().split()))\r\n",
        "print_mul(var1, var2)"
      ],
      "execution_count": null,
      "outputs": []
    },
    {
      "cell_type": "markdown",
      "metadata": {
        "id": "K6LyY14kC7YW"
      },
      "source": [
        "### 4-4\n",
        "\n",
        "함수를 이용해 list에 담긴 값 중 최대값을 구하는 프로그램을 작성하세요  \n"
      ]
    },
    {
      "cell_type": "code",
      "metadata": {
        "id": "FozWgkewC7YX"
      },
      "source": [
        "def get_Max(list_a):\r\n",
        "  max=list_a[0]\r\n",
        "  for i in range(1, len(list_a)):\r\n",
        "    if max<list_a[i]:\r\n",
        "      max=list_a[i]\r\n",
        "  print(max)"
      ],
      "execution_count": null,
      "outputs": []
    },
    {
      "cell_type": "code",
      "metadata": {
        "id": "Cdmly_mlC7YX"
      },
      "source": [
        "list_a=[1,3,4,58,5,11,16]\n",
        "get_Max(list_a)"
      ],
      "execution_count": null,
      "outputs": []
    },
    {
      "cell_type": "markdown",
      "metadata": {
        "id": "dZC9diAQC7YX"
      },
      "source": [
        "### 4-5\n",
        "\n",
        "람다 함수를 이용하여 1부터 9까지 제곱수를 출력하는 프로그램을 작성하세요 \n"
      ]
    },
    {
      "cell_type": "code",
      "metadata": {
        "id": "5X-A5-DCC7YY"
      },
      "source": [
        "x=lambda a: a**2\r\n",
        "for i in range(1, 10):\r\n",
        "  print(x(i))"
      ],
      "execution_count": null,
      "outputs": []
    }
  ]
}