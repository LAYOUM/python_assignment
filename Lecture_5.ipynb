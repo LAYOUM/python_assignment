{
  "nbformat": 4,
  "nbformat_minor": 0,
  "metadata": {
    "kernelspec": {
      "display_name": "Python 3",
      "language": "python",
      "name": "python3"
    },
    "language_info": {
      "codemirror_mode": {
        "name": "ipython",
        "version": 3
      },
      "file_extension": ".py",
      "mimetype": "text/x-python",
      "name": "python",
      "nbconvert_exporter": "python",
      "pygments_lexer": "ipython3",
      "version": "3.7.3"
    },
    "colab": {
      "name": "Lecture 5.ipynb",
      "provenance": [],
      "collapsed_sections": [],
      "include_colab_link": true
    }
  },
  "cells": [
    {
      "cell_type": "markdown",
      "metadata": {
        "id": "view-in-github",
        "colab_type": "text"
      },
      "source": [
        "<a href=\"https://colab.research.google.com/github/LAYOUM/python_assignment/blob/main/Lecture_5.ipynb\" target=\"_parent\"><img src=\"https://colab.research.google.com/assets/colab-badge.svg\" alt=\"Open In Colab\"/></a>"
      ]
    },
    {
      "cell_type": "markdown",
      "metadata": {
        "id": "Pcl-0jqZ6_0w"
      },
      "source": [
        "# Lecture 5 python\n"
      ]
    },
    {
      "cell_type": "markdown",
      "metadata": {
        "id": "Q76LYEg56_1B"
      },
      "source": [
        "input()의 사용법 안내  \n",
        "print()는 말 그대로 print라는 함수를 작동시키는데 인자로 안의 값들을 받아 출력하는 형태입니다.  \n",
        "이와 마찬가지로 input()을 사용해 사용자의 키보드 입력으로 부터 값을 받아오는것도 가능합니다.  \n",
        "\n",
        "아래의 셀을 작동시켜보세요. 이번 lecture의 강의 중 입력을 받아 사용하는 문제가 있을 예정입니다.\n"
      ]
    },
    {
      "cell_type": "code",
      "metadata": {
        "id": "6v7wCGeH6_1D"
      },
      "source": [
        "test=input()\n",
        "print(\"input:\",test)\n",
        "print(\"input's type :\",type(test))"
      ],
      "execution_count": null,
      "outputs": []
    },
    {
      "cell_type": "markdown",
      "metadata": {
        "id": "325PSUru6_1F"
      },
      "source": [
        "### 5-1\n",
        "human이라는 클래스를 정의하고 객체를 하나 생성하세요  \n",
        "또한 \\_\\_init\\_\\_를 이용해서 human객체 안의 name 이라는 변수가 input()을 통해 이름을 가지도록 하세요  \n",
        "함수와 마찬가지로 class를 작성 후 한번 실행을 해야 정의됩니다.  \n",
        "출력으로 생성한 객체의 name 변수를 출력하도록 작성하세요\n"
      ]
    },
    {
      "cell_type": "code",
      "metadata": {
        "id": "X8_8yIOs6_1G"
      },
      "source": [
        "class human:\n",
        "    def __init__(self):\n",
        "      self.name=input()"
      ],
      "execution_count": 3,
      "outputs": []
    },
    {
      "cell_type": "code",
      "metadata": {
        "id": "Sb74HIis8tsS"
      },
      "source": [
        "a=human()\r\n",
        "name=a.name\r\n",
        "print(\"name:\", name)"
      ],
      "execution_count": null,
      "outputs": []
    },
    {
      "cell_type": "markdown",
      "metadata": {
        "id": "PRP6ZI5W6_1I"
      },
      "source": [
        "### 5-2\n",
        "\n",
        "로봇이라는 클래스를 정의하고 ob1,ob2라는 객체를 2개 생성하세요  \n",
        "이때 이름을 input()으로 입력받아 ob1,ob2의 이름을 설정하세요 \n",
        "\n",
        "그리고 두 객체의 이름을 출력하세요  \n"
      ]
    },
    {
      "cell_type": "code",
      "metadata": {
        "id": "tUncRHYQ6_1J"
      },
      "source": [
        "class Robot:\n",
        "    def __init__(self):\n",
        "      self.name=input()"
      ],
      "execution_count": 7,
      "outputs": []
    },
    {
      "cell_type": "code",
      "metadata": {
        "id": "Ju1kPUXl6_1K"
      },
      "source": [
        "ob1=Robot()\r\n",
        "ob2=Robot()\r\n",
        "\r\n",
        "print(\"ob1:\", ob1.name)\r\n",
        "print(\"ob2:\", ob2.name)"
      ],
      "execution_count": null,
      "outputs": []
    },
    {
      "cell_type": "markdown",
      "metadata": {
        "id": "hUlP0avo6_1K"
      },
      "source": [
        "### 5-3\n",
        "\n",
        "해당 코드를 동작시키면 오류가 발생합니다.  \n",
        "해당 오류의 발생원인을 3번째 셀의 print문 안에 채워넣으세요  "
      ]
    },
    {
      "cell_type": "code",
      "metadata": {
        "id": "0K6LpUqJ6_1L"
      },
      "source": [
        "class circle:\n",
        "    def __init__(self,r):\n",
        "        self.__radius=r"
      ],
      "execution_count": 22,
      "outputs": []
    },
    {
      "cell_type": "code",
      "metadata": {
        "id": "s5fQb83h6_1L",
        "colab": {
          "base_uri": "https://localhost:8080/",
          "height": 186
        },
        "outputId": "d1a28785-fed7-4b44-e9ba-af5b21cca955"
      },
      "source": [
        "A=circle(10)\n",
        "print(A.__radius)"
      ],
      "execution_count": 26,
      "outputs": [
        {
          "output_type": "error",
          "ename": "AttributeError",
          "evalue": "ignored",
          "traceback": [
            "\u001b[0;31m---------------------------------------------------------------------------\u001b[0m",
            "\u001b[0;31mAttributeError\u001b[0m                            Traceback (most recent call last)",
            "\u001b[0;32m<ipython-input-26-f938b561a305>\u001b[0m in \u001b[0;36m<module>\u001b[0;34m()\u001b[0m\n\u001b[1;32m      1\u001b[0m \u001b[0mA\u001b[0m\u001b[0;34m=\u001b[0m\u001b[0mcircle\u001b[0m\u001b[0;34m(\u001b[0m\u001b[0;36m10\u001b[0m\u001b[0;34m)\u001b[0m\u001b[0;34m\u001b[0m\u001b[0;34m\u001b[0m\u001b[0m\n\u001b[0;32m----> 2\u001b[0;31m \u001b[0mprint\u001b[0m\u001b[0;34m(\u001b[0m\u001b[0mA\u001b[0m\u001b[0;34m.\u001b[0m\u001b[0m__radius\u001b[0m\u001b[0;34m)\u001b[0m\u001b[0;34m\u001b[0m\u001b[0;34m\u001b[0m\u001b[0m\n\u001b[0m",
            "\u001b[0;31mAttributeError\u001b[0m: 'circle' object has no attribute '__radius'"
          ]
        }
      ]
    },
    {
      "cell_type": "code",
      "metadata": {
        "id": "zlSjyd5J6_1L"
      },
      "source": [
        "print(\"이유: __는 정보 은닉을 위한 접근지정자로, 클래스 내부에서만 사용이 가능\")"
      ],
      "execution_count": null,
      "outputs": []
    },
    {
      "cell_type": "markdown",
      "metadata": {
        "id": "jtj8SciM6_1M"
      },
      "source": [
        "### 5-4\n",
        "상속성\n",
        "\n",
        "다음 조건을 만족하는 클래스를 선언하세요  \n",
        "\n",
        "parent라는 클래스를 하나 선언하세요 이때 class가 가지는 값은 hi()라는 함수를 하나 가지며 내부에는 \n",
        "print(\"hi\")라는 동작을 합니다.\n",
        "\n",
        "baby라는 클래스를 하나 선언하세요 이때 class가 가지는 값은 hello()라는 함수를 하나 가지며 내부에는\n",
        "print(\"hello\")라는 동작을 합니다.또한 parent 클래스를 상속합니다.\n",
        "\n",
        "baby 클래스를 이용해 객체를 하나 생성한 뒤 hi()함수와 hello() 함수 동작시키세요.\n"
      ]
    },
    {
      "cell_type": "code",
      "metadata": {
        "id": "1Kw7twe06_1M"
      },
      "source": [
        "class parent:\n",
        "  def hi(self):\n",
        "    print(\"hi\")\n",
        "    \n",
        "    \n",
        "class baby(parent):\n",
        "  def hello(self):\n",
        "    print(\"hello\")\n",
        "\n",
        "    "
      ],
      "execution_count": 30,
      "outputs": []
    },
    {
      "cell_type": "code",
      "metadata": {
        "id": "72XHDLL56_1N"
      },
      "source": [
        "A=baby()\r\n",
        "A.hi()\r\n",
        "A.hello()"
      ],
      "execution_count": null,
      "outputs": []
    },
    {
      "cell_type": "markdown",
      "metadata": {
        "id": "jDCjp6nk6_1N"
      },
      "source": [
        "### 5-5\n",
        "다음 조건을 만족하는 클래스를 선언하세요  \n",
        "클래스의 이름이 phone입니다.\n",
        "객체의 클래스 변수로 location이라는 이름을 가지고 \"korea\"라는 값을 가집니다.  \n",
        "\\_\\_init__(self,p_number,brand)의 인자를 가지고 각 인자를  \n",
        "\n",
        "\n",
        "self.p_no=p_number  \n",
        "self.brand=brand  \n",
        "그리고 인자로 받지 않는 값 self.price를 100의 값을 가지도록 설정하세요  \n",
        "\n",
        "클래스의 함수는 2개가 있습니다.  \n",
        "print_info()함수는 인자를 받지 않고  \n",
        "출력으로 location과 p_no을 출력합니다.  \n",
        "\n",
        "print_price() 함수는 인자를 하나 받고  \n",
        "출력으로 self.brand와 self.price+인자의 값 을 출력합니다.  \n",
        "\n",
        "\n",
        "p_number,brand가 다음과 같은 객체 2개를 생성하고 모든 객체에 대해 print_info()와 print_price()를 출력합니다.  \n",
        "\n",
        "\"010-1122-1122\",\"삼성\"(이 객체의 print_price 함수를 호출할 때 인자로 33을 넘겨줍니다.)  \n",
        "\"010-4444-4444\",\"애플\"(이 객체의 print_price 함수를 호출할 때 인자로 35을 넘겨줍니다.)\n",
        "\n"
      ]
    },
    {
      "cell_type": "code",
      "metadata": {
        "id": "LiUKwE276_1O"
      },
      "source": [
        "class phone:\r\n",
        "  location = \"korea\"\r\n",
        "  def __init__(self, p_number, brand):\r\n",
        "    self.p_no=p_number\r\n",
        "    self.brand=brand\r\n",
        "    self.price=100\r\n",
        "  def print_info(self):\r\n",
        "    print(location)\r\n",
        "    print(p_no)\r\n",
        "  def print_price(self, p):\r\n",
        "    print(self.brand)\r\n",
        "    print(self.price)"
      ],
      "execution_count": 42,
      "outputs": []
    },
    {
      "cell_type": "code",
      "metadata": {
        "id": "Ut-TKr2l6_1O"
      },
      "source": [
        "a=phone(\"010-1122-1122\", \"삼성\")\r\n",
        "b=phone(\"010-4444-4444\", \"애플\")\r\n",
        "a.print_price(33)\r\n",
        "b.print_price(35)"
      ],
      "execution_count": null,
      "outputs": []
    }
  ]
}