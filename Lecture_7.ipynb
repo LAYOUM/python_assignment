{
  "nbformat": 4,
  "nbformat_minor": 0,
  "metadata": {
    "kernelspec": {
      "display_name": "Python 3",
      "language": "python",
      "name": "python3"
    },
    "language_info": {
      "codemirror_mode": {
        "name": "ipython",
        "version": 3
      },
      "file_extension": ".py",
      "mimetype": "text/x-python",
      "name": "python",
      "nbconvert_exporter": "python",
      "pygments_lexer": "ipython3",
      "version": "3.7.3"
    },
    "colab": {
      "name": "Lecture 7.ipynb",
      "provenance": [],
      "collapsed_sections": [],
      "include_colab_link": true
    }
  },
  "cells": [
    {
      "cell_type": "markdown",
      "metadata": {
        "id": "view-in-github",
        "colab_type": "text"
      },
      "source": [
        "<a href=\"https://colab.research.google.com/github/LAYOUM/python_assignment/blob/main/Lecture_7.ipynb\" target=\"_parent\"><img src=\"https://colab.research.google.com/assets/colab-badge.svg\" alt=\"Open In Colab\"/></a>"
      ]
    },
    {
      "cell_type": "markdown",
      "metadata": {
        "id": "cmoBhHY1sToF"
      },
      "source": [
        "# Lecture 7"
      ]
    },
    {
      "cell_type": "markdown",
      "metadata": {
        "id": "rGfjCvA5sToR"
      },
      "source": [
        "## 7-1\n",
        "\n",
        "아래의 코드를 실행시키면 몇 번째의 변수가 출력되는지 적으세요\n"
      ]
    },
    {
      "cell_type": "code",
      "metadata": {
        "id": "yz77UeUBsToT",
        "colab": {
          "base_uri": "https://localhost:8080/"
        },
        "outputId": "15c2e983-ea7b-4a16-8129-ea3c2f268a75"
      },
      "source": [
        "x=10 # 1번\n",
        "def func1():\n",
        "    x=10# 2번\n",
        "    print(x) # 몇번의 변수를 출력?\n",
        "    \n",
        "func1()"
      ],
      "execution_count": null,
      "outputs": [
        {
          "output_type": "stream",
          "text": [
            "10\n"
          ],
          "name": "stdout"
        }
      ]
    },
    {
      "cell_type": "code",
      "metadata": {
        "id": "QHaMUn01sToU",
        "colab": {
          "base_uri": "https://localhost:8080/"
        },
        "outputId": "4f0ef653-6e94-489c-9c6b-3681a359cee0"
      },
      "source": [
        "print(\"2번 변수\")"
      ],
      "execution_count": null,
      "outputs": [
        {
          "output_type": "stream",
          "text": [
            "2번 변수\n"
          ],
          "name": "stdout"
        }
      ]
    },
    {
      "cell_type": "markdown",
      "metadata": {
        "id": "PJcscJapsToV"
      },
      "source": [
        "## 7-2\n",
        "아래의 코드를 실행시키면 몇 번째의 변수가 출력되지 적으세요"
      ]
    },
    {
      "cell_type": "code",
      "metadata": {
        "id": "qTu0e-7asToW",
        "colab": {
          "base_uri": "https://localhost:8080/"
        },
        "outputId": "aa8a842f-cb46-4a4b-9b3a-aabea6ee66d4"
      },
      "source": [
        "x=11# 1번\n",
        "\n",
        "def func1():\n",
        "    x=11 #2번\n",
        "    \n",
        "    def func2():\n",
        "        x=11# 3번\n",
        "        print(x)# 몇번의 변수를 출력?\n",
        "        \n",
        "    func2()\n",
        "    \n",
        "func1()\n"
      ],
      "execution_count": null,
      "outputs": [
        {
          "output_type": "stream",
          "text": [
            "11\n"
          ],
          "name": "stdout"
        }
      ]
    },
    {
      "cell_type": "code",
      "metadata": {
        "id": "I7grhK2RsToX",
        "colab": {
          "base_uri": "https://localhost:8080/"
        },
        "outputId": "b0abf0fb-f831-47d1-8fd7-e7782cb1f68a"
      },
      "source": [
        "print(\"3번 변수\")"
      ],
      "execution_count": null,
      "outputs": [
        {
          "output_type": "stream",
          "text": [
            "3번 변수\n"
          ],
          "name": "stdout"
        }
      ]
    },
    {
      "cell_type": "markdown",
      "metadata": {
        "id": "xn2DUbCpsToX"
      },
      "source": [
        "## 7-3 \n",
        "아래의 코드를 실행시키면 몇 번째의 변수가 출력되는지 적으세요"
      ]
    },
    {
      "cell_type": "code",
      "metadata": {
        "id": "wT9VV-sMsToY",
        "colab": {
          "base_uri": "https://localhost:8080/"
        },
        "outputId": "c78cfcaa-5848-400f-b70d-fcbe15908607"
      },
      "source": [
        "x=11# 1번\n",
        "\n",
        "def func1():\n",
        "    x=11 #2번\n",
        "    \n",
        "    def func2():\n",
        "        x=11# 3번\n",
        "    func2()\n",
        "    print(x)# 몇번의 변수를 출력?\n",
        "func1()\n"
      ],
      "execution_count": null,
      "outputs": [
        {
          "output_type": "stream",
          "text": [
            "11\n"
          ],
          "name": "stdout"
        }
      ]
    },
    {
      "cell_type": "code",
      "metadata": {
        "id": "NvfZBQUzsToZ",
        "colab": {
          "base_uri": "https://localhost:8080/"
        },
        "outputId": "744a07ed-5d2a-496a-817f-de3bb6e14338"
      },
      "source": [
        "print(\"2번 변수\")"
      ],
      "execution_count": null,
      "outputs": [
        {
          "output_type": "stream",
          "text": [
            "2번 변수\n"
          ],
          "name": "stdout"
        }
      ]
    },
    {
      "cell_type": "markdown",
      "metadata": {
        "id": "7kFOvF-usToa"
      },
      "source": [
        "## 7-4 \n",
        "아래의 코드를 실행시키면  \n",
        "func2 함수에서 x가 몇 번째의 변수를 참조하는지 적으세요"
      ]
    },
    {
      "cell_type": "code",
      "metadata": {
        "id": "BhHThRFdsTob"
      },
      "source": [
        "x=11# 1번\n",
        "\n",
        "def func1():\n",
        "    \n",
        "    x=11 #2번\n",
        "    \n",
        "    def func2():\n",
        "        nonlocal x\n",
        "        x=11 #어떤 위치의 x를 바꾸는것인지\n",
        "        \n",
        "    func2()\n",
        "func1()\n"
      ],
      "execution_count": null,
      "outputs": []
    },
    {
      "cell_type": "code",
      "metadata": {
        "id": "aToSIP2bsToc"
      },
      "source": [
        "print(\"2번 변수\")"
      ],
      "execution_count": null,
      "outputs": []
    },
    {
      "cell_type": "markdown",
      "metadata": {
        "id": "OeU7p6OOsTod"
      },
      "source": [
        "## 7-5 \n",
        "아래의 코드를 실행시키면   \n",
        "func2 함수에서 x가 몇 번째의 변수를 참조하는지 적으세요"
      ]
    },
    {
      "cell_type": "code",
      "metadata": {
        "id": "4swwvwLXsToe"
      },
      "source": [
        "x=11# 1번\n",
        "\n",
        "def func1():\n",
        "    \n",
        "    x=11 #2번\n",
        "    \n",
        "    def func2():\n",
        "        global x\n",
        "        x=11 #어떤 위치의 x를 바꾸는것인지\n",
        "        \n",
        "    func2()\n",
        "func1()"
      ],
      "execution_count": null,
      "outputs": []
    },
    {
      "cell_type": "code",
      "metadata": {
        "id": "Mc6S2jaHsTof"
      },
      "source": [
        "print(\"1번 변수\")"
      ],
      "execution_count": null,
      "outputs": []
    }
  ]
}