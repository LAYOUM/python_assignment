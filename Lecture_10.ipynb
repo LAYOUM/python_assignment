{
  "nbformat": 4,
  "nbformat_minor": 0,
  "metadata": {
    "kernelspec": {
      "display_name": "Python 3",
      "language": "python",
      "name": "python3"
    },
    "language_info": {
      "codemirror_mode": {
        "name": "ipython",
        "version": 3
      },
      "file_extension": ".py",
      "mimetype": "text/x-python",
      "name": "python",
      "nbconvert_exporter": "python",
      "pygments_lexer": "ipython3",
      "version": "3.7.3"
    },
    "colab": {
      "name": "Lecture 10.ipynb",
      "provenance": [],
      "collapsed_sections": [],
      "include_colab_link": true
    }
  },
  "cells": [
    {
      "cell_type": "markdown",
      "metadata": {
        "id": "view-in-github",
        "colab_type": "text"
      },
      "source": [
        "<a href=\"https://colab.research.google.com/github/LAYOUM/python_assignment/blob/main/Lecture_10.ipynb\" target=\"_parent\"><img src=\"https://colab.research.google.com/assets/colab-badge.svg\" alt=\"Open In Colab\"/></a>"
      ]
    },
    {
      "cell_type": "markdown",
      "metadata": {
        "id": "TY4xPuVkEwkr"
      },
      "source": [
        "# Lecture 10"
      ]
    },
    {
      "cell_type": "markdown",
      "metadata": {
        "id": "BUdM4jbnEwkx"
      },
      "source": [
        "### 10-1  \n",
        "\n",
        "다음 텍스트를 앞뒤의 공백을 제거한 뒤 단어단위로 잘라서 list로 만드는 프로그램을 작성하세요.\n"
      ]
    },
    {
      "cell_type": "code",
      "metadata": {
        "id": "M_x1oBEEEwky",
        "colab": {
          "base_uri": "https://localhost:8080/"
        },
        "outputId": "cfaee6ed-3e3e-4831-b82b-ee66c3ffb87d"
      },
      "source": [
        "text=\" aba asd dasd eqwea asd \"\n",
        "text.strip()\n",
        "a=text.split()\n",
        "print(a)"
      ],
      "execution_count": null,
      "outputs": [
        {
          "output_type": "stream",
          "text": [
            "['aba', 'asd', 'dasd', 'eqwea', 'asd']\n"
          ],
          "name": "stdout"
        }
      ]
    },
    {
      "cell_type": "markdown",
      "metadata": {
        "id": "hP-7hpKBEwk0"
      },
      "source": [
        "### 10-2\n",
        "\n",
        "test.txt라는 파일을 하나 생성하고 해당 파일에  \n",
        "lexture 10 test  \n",
        "라는 내용을 적고 저장하는 코드를 작성하세요  \n",
        "아래 코드는 test.txt를 열고 test라는 내용을 적은뒤 저장하는 코드입니다."
      ]
    },
    {
      "cell_type": "code",
      "metadata": {
        "id": "3VIRbcDJEwk1"
      },
      "source": [
        "f = open(\"test.txt\", 'w')\n",
        "f.write('lecture 10 test')\n",
        "f.close()"
      ],
      "execution_count": null,
      "outputs": []
    },
    {
      "cell_type": "markdown",
      "metadata": {
        "id": "IYrAQUMHEwk2"
      },
      "source": [
        "### 10-3  \n",
        "\n",
        "다음 str에 대해 각 문자가 얼마나 나오는지 카운트하고 그것을 딕셔너리로 만드세요"
      ]
    },
    {
      "cell_type": "code",
      "metadata": {
        "colab": {
          "base_uri": "https://localhost:8080/"
        },
        "id": "3qLP97ZClyd5",
        "outputId": "a7c4c5b7-b434-43d9-9e5c-921d232b9253"
      },
      "source": [
        "D={}\r\n",
        "text=\"asdeedadaaasswwqqeeddsssaaseeeqqwwdddassddqqassseeddwwqqasddewq\"\r\n",
        "\r\n",
        "B=set(text)\r\n",
        "\r\n",
        "for i in B:\r\n",
        "  D[i]=text.count(i)\r\n",
        "\r\n",
        "print(D)"
      ],
      "execution_count": null,
      "outputs": [
        {
          "output_type": "stream",
          "text": [
            "{'q': 9, 's': 13, 'd': 14, 'w': 7, 'a': 10, 'e': 10}\n"
          ],
          "name": "stdout"
        }
      ]
    },
    {
      "cell_type": "markdown",
      "metadata": {
        "id": "1fak7GJPEwk4"
      },
      "source": [
        "### 10-4\n",
        "주어진 텍스트에서 전화번호만 가져오는 코드를 작성하세요\n"
      ]
    },
    {
      "cell_type": "code",
      "metadata": {
        "id": "_WJyFzgnEwk4"
      },
      "source": [
        "import re"
      ],
      "execution_count": null,
      "outputs": []
    },
    {
      "cell_type": "code",
      "metadata": {
        "id": "x-8B0EpZEwk5",
        "colab": {
          "base_uri": "https://localhost:8080/"
        },
        "outputId": "ddd70682-4071-455f-f1de-8ac44cc4b987"
      },
      "source": [
        "num=re.compile('\\d{3}-\\d{4}-\\d{4}')\r\n",
        "text= \"안녕하세요 홍길동입니다. 제 전화번호는 123-4657-1111 입니다.\"\r\n",
        "a=num.search(text)\r\n",
        "print(a)"
      ],
      "execution_count": null,
      "outputs": [
        {
          "output_type": "stream",
          "text": [
            "<_sre.SRE_Match object; span=(22, 35), match='123-4657-1111'>\n"
          ],
          "name": "stdout"
        }
      ]
    },
    {
      "cell_type": "markdown",
      "metadata": {
        "id": "QQD00ZbLEwk6"
      },
      "source": [
        "### 10-4\n",
        "주어진 텍스트에서 이메일만 가져오는 코드를 작성하세요"
      ]
    },
    {
      "cell_type": "code",
      "metadata": {
        "id": "_bJJZDW7Ewk6",
        "colab": {
          "base_uri": "https://localhost:8080/"
        },
        "outputId": "e7a7ade8-b0f6-4989-ec40-3db119bb677a"
      },
      "source": [
        "email=re.compile('[a-z]+@[a-z]+\\.com')\r\n",
        "test=\" 문의사항은 test@gmail.com 을 통해 보내주시기 바랍니다.\"\r\n",
        "\r\n",
        "a=email.search(test)\r\n",
        "print(a)"
      ],
      "execution_count": null,
      "outputs": [
        {
          "output_type": "stream",
          "text": [
            "<_sre.SRE_Match object; span=(7, 21), match='test@gmail.com'>\n"
          ],
          "name": "stdout"
        }
      ]
    }
  ]
}