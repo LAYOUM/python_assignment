{
  "nbformat": 4,
  "nbformat_minor": 0,
  "metadata": {
    "kernelspec": {
      "display_name": "Python 3",
      "language": "python",
      "name": "python3"
    },
    "language_info": {
      "codemirror_mode": {
        "name": "ipython",
        "version": 3
      },
      "file_extension": ".py",
      "mimetype": "text/x-python",
      "name": "python",
      "nbconvert_exporter": "python",
      "pygments_lexer": "ipython3",
      "version": "3.7.3"
    },
    "colab": {
      "name": "Lecture 9.ipynb",
      "provenance": [],
      "collapsed_sections": [],
      "include_colab_link": true
    }
  },
  "cells": [
    {
      "cell_type": "markdown",
      "metadata": {
        "id": "view-in-github",
        "colab_type": "text"
      },
      "source": [
        "<a href=\"https://colab.research.google.com/github/LAYOUM/python_assignment/blob/main/Lecture_9.ipynb\" target=\"_parent\"><img src=\"https://colab.research.google.com/assets/colab-badge.svg\" alt=\"Open In Colab\"/></a>"
      ]
    },
    {
      "cell_type": "markdown",
      "metadata": {
        "id": "mF1Xln2cEtBB"
      },
      "source": [
        "# Lecture 9"
      ]
    },
    {
      "cell_type": "markdown",
      "metadata": {
        "id": "6p6jl9mhEtBL"
      },
      "source": [
        "### 9-1  \n",
        "다음과 같은 list가 있을떄 중복을 제거해보세요"
      ]
    },
    {
      "cell_type": "code",
      "metadata": {
        "id": "h7V-PImjEtBM",
        "colab": {
          "base_uri": "https://localhost:8080/"
        },
        "outputId": "4f8ca6e0-3fc9-4b1b-cd5e-919b34debfc0"
      },
      "source": [
        "A=[\"a\",\"b\",\"c\",\"a\",\"b\",\"a\",\"d\",\"b\",\"e\"]\n",
        "print(set(A))"
      ],
      "execution_count": null,
      "outputs": [
        {
          "output_type": "stream",
          "text": [
            "{'a', 'd', 'b', 'e', 'c'}\n"
          ],
          "name": "stdout"
        }
      ]
    },
    {
      "cell_type": "markdown",
      "metadata": {
        "id": "6-wJF7szEtBP"
      },
      "source": [
        "### 9-2\n",
        " Set,int, List, string, tuple, Dictionary, Set, float\n",
        " 중 immutable과 mutable을 구분하세요"
      ]
    },
    {
      "cell_type": "code",
      "metadata": {
        "id": "ki_aIXbsEtBQ",
        "colab": {
          "base_uri": "https://localhost:8080/"
        },
        "outputId": "85577ea5-e0c8-4ef3-9e2b-7f80ec1d011c"
      },
      "source": [
        "print(\"immutable: set, list, dictionary\")\n",
        "print(\"mutable: int, tuple, float\")"
      ],
      "execution_count": null,
      "outputs": [
        {
          "output_type": "stream",
          "text": [
            "immutable: set, list, dictionary\n",
            "mutable: int, tuple, float\n"
          ],
          "name": "stdout"
        }
      ]
    },
    {
      "cell_type": "markdown",
      "metadata": {
        "id": "-BInlr6KEtBR"
      },
      "source": [
        "### 9-3 \n",
        "다음과 같은 배열이 있을때  \n",
        "다음과 같은 배열을 복사해 배열의 마지막 값이 \"6\"으로 원래 배열과 값 하나만 다른 배열을 만드세요"
      ]
    },
    {
      "cell_type": "code",
      "metadata": {
        "id": "JCAlSl9rEtBR",
        "colab": {
          "base_uri": "https://localhost:8080/"
        },
        "outputId": "a5da4580-0201-4d4f-f7d8-0d131a0b40f4"
      },
      "source": [
        "import copy\n",
        "a=[1,2,3,4,5]\n",
        "b=a[:] #copy.copy(a)\n",
        "\n",
        "b[-1]=6\n",
        "\n",
        "print(a)\n",
        "print(b)"
      ],
      "execution_count": null,
      "outputs": [
        {
          "output_type": "stream",
          "text": [
            "[1, 2, 3, 4, 5]\n",
            "[1, 2, 3, 4, 6]\n"
          ],
          "name": "stdout"
        }
      ]
    },
    {
      "cell_type": "markdown",
      "metadata": {
        "id": "zlAPaaNqEtBS"
      },
      "source": [
        "### 9-4 \n",
        "딕셔너리를 이용해 input으로 입력받은 값이 딕셔너리 안에 있는지 검사하세요\n"
      ]
    },
    {
      "cell_type": "code",
      "metadata": {
        "id": "UEtZZIgWEtBS",
        "colab": {
          "base_uri": "https://localhost:8080/"
        },
        "outputId": "18508275-3d59-4eea-e0b0-67406410a331"
      },
      "source": [
        "D={\"korea\":\"한국\",\"japan\":\"일본\",\"USA\":\"미국\",\"china\":\"중곡\",\"spain\":\"스페인\",\"russia\":\"러시아\"}\n",
        "search=input()\n",
        "\n",
        "if search in D:\n",
        "    print(D[search])\n",
        "else:\n",
        "    print(\"not found\")\n"
      ],
      "execution_count": null,
      "outputs": [
        {
          "output_type": "stream",
          "text": [
            "korea\n",
            "한국\n"
          ],
          "name": "stdout"
        }
      ]
    },
    {
      "cell_type": "markdown",
      "metadata": {
        "id": "kNdIyBV7EtBT"
      },
      "source": [
        "### 9-5 \n",
        "\n",
        "shallow copy 와 deep copy의 차이점을 간단히 서술하세요.\n"
      ]
    },
    {
      "cell_type": "code",
      "metadata": {
        "id": "dA4vj08cEtBT"
      },
      "source": [
        "print(\"shallow copy는 변수만 복사하고 deep copy는 변수와 객체 모두 복사\")"
      ],
      "execution_count": null,
      "outputs": []
    }
  ]
}